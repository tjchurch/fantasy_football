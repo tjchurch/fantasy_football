{
 "cells": [
  {
   "cell_type": "code",
   "execution_count": 40,
   "metadata": {},
   "outputs": [
    {
     "name": "stdout",
     "output_type": "stream",
     "text": [
      "Output after reading the html:\n",
      "\n",
      "    Rank             Player Team (Bye)  POS  Yahoo  Fantrax  AVG\n",
      "0     1  Christian McCaffrey CAR (13)  RB1    1.0        1  1.0\n",
      "1     2       Saquon Barkley NYG (11)  RB2    2.0        2  2.0\n",
      "2     3      Ezekiel Elliott DAL (10)  RB3    3.0        3  3.0\n",
      "3     4         Michael Thomas NO (6)  WR1    6.0        4  5.0\n",
      "4     5           Alvin Kamara NO (6)  RB4    4.0        6  5.0 \n",
      "\n",
      "Output after filtering:\n",
      "\n",
      "               Player Team (Bye)  POS  AVG\n",
      "0  Christian McCaffrey CAR (13)  RB1  1.0\n",
      "1       Saquon Barkley NYG (11)  RB2  2.0\n",
      "2      Ezekiel Elliott DAL (10)  RB3  3.0\n",
      "3         Michael Thomas NO (6)  WR1  5.0\n",
      "4           Alvin Kamara NO (6)  RB4  5.0 \n",
      "\n",
      "Final output: \n",
      "\n",
      "                 PLAYER POS  AVG\n",
      "0  Christian McCaffrey  RB  1.0\n",
      "1       Saquon Barkley  RB  2.0\n",
      "2      Ezekiel Elliott  RB  3.0\n",
      "3       Michael Thomas  WR  5.0\n",
      "4         Alvin Kamara  RB  5.0\n"
     ]
    },
    {
     "ename": "IndexError",
     "evalue": "index 0 is out of bounds for axis 0 with size 0",
     "output_type": "error",
     "traceback": [
      "\u001b[0;31m---------------------------------------------------------------------------\u001b[0m",
      "\u001b[0;31mIndexError\u001b[0m                                Traceback (most recent call last)",
      "\u001b[0;32m<ipython-input-40-903e978e7afa>\u001b[0m in \u001b[0;36m<module>\u001b[0;34m\u001b[0m\n\u001b[1;32m     88\u001b[0m \u001b[0;32mfor\u001b[0m \u001b[0mposition\u001b[0m\u001b[0;34m,\u001b[0m \u001b[0mplayer\u001b[0m \u001b[0;32min\u001b[0m \u001b[0mreplacement_players\u001b[0m\u001b[0;34m.\u001b[0m\u001b[0mitems\u001b[0m\u001b[0;34m(\u001b[0m\u001b[0;34m)\u001b[0m\u001b[0;34m:\u001b[0m\u001b[0;34m\u001b[0m\u001b[0;34m\u001b[0m\u001b[0m\n\u001b[1;32m     89\u001b[0m     \u001b[0;32mif\u001b[0m \u001b[0mposition\u001b[0m \u001b[0;32min\u001b[0m \u001b[0;34m[\u001b[0m\u001b[0;34m'QB'\u001b[0m\u001b[0;34m,\u001b[0m\u001b[0;34m'WR'\u001b[0m\u001b[0;34m,\u001b[0m\u001b[0;34m'TE'\u001b[0m\u001b[0;34m,\u001b[0m\u001b[0;34m'RB'\u001b[0m\u001b[0;34m]\u001b[0m\u001b[0;34m:\u001b[0m\u001b[0;34m\u001b[0m\u001b[0;34m\u001b[0m\u001b[0m\n\u001b[0;32m---> 90\u001b[0;31m         \u001b[0mreplacement_values\u001b[0m\u001b[0;34m[\u001b[0m\u001b[0mposition\u001b[0m\u001b[0;34m]\u001b[0m\u001b[0;34m=\u001b[0m\u001b[0mdf\u001b[0m\u001b[0;34m.\u001b[0m\u001b[0mloc\u001b[0m\u001b[0;34m[\u001b[0m\u001b[0mdf\u001b[0m\u001b[0;34m[\u001b[0m\u001b[0;34m'PLAYER'\u001b[0m\u001b[0;34m]\u001b[0m\u001b[0;34m==\u001b[0m\u001b[0mplayer\u001b[0m\u001b[0;34m]\u001b[0m\u001b[0;34m.\u001b[0m\u001b[0mvalues\u001b[0m\u001b[0;34m[\u001b[0m\u001b[0;36m0\u001b[0m\u001b[0;34m,\u001b[0m\u001b[0;34m-\u001b[0m\u001b[0;36m1\u001b[0m\u001b[0;34m]\u001b[0m\u001b[0;34m\u001b[0m\u001b[0;34m\u001b[0m\u001b[0m\n\u001b[0m\u001b[1;32m     91\u001b[0m \u001b[0;34m\u001b[0m\u001b[0m\n\u001b[1;32m     92\u001b[0m \u001b[0;34m\u001b[0m\u001b[0m\n",
      "\u001b[0;31mIndexError\u001b[0m: index 0 is out of bounds for axis 0 with size 0"
     ]
    }
   ],
   "source": [
    "from bs4 import BeautifulSoup as BS\n",
    "import requests\n",
    "import pandas as pd\n",
    "\n",
    "BASE_URL = \"https://www.fantasypros.com/nfl/adp/half-point-ppr-overall.php\"\n",
    "\n",
    "def make_adp_df():\n",
    "    res = requests.get(BASE_URL)\n",
    "    if res.ok:\n",
    "        soup = BS(res.content, 'html.parser')\n",
    "        table = soup.find('table', {'id': 'data'})\n",
    "        df = pd.read_html(str(table))[0]\n",
    "        print('Output after reading the html:\\n\\n', df.head(), '\\n') # so you can see the output at this point\n",
    "        df = df[['Player Team (Bye)', 'POS', 'AVG']]\n",
    "        print('Output after filtering:\\n\\n', df.head(), '\\n')\n",
    "        df['PLAYER'] = df['Player Team (Bye)'].apply(lambda x: ' '.join(x.split()[:-2])) # removing the team and position\n",
    "        df['POS'] = df['POS'].apply(lambda x: x[:2]) # removing the position rank\n",
    "        \n",
    "        df = df[['PLAYER', 'POS', 'AVG']].sort_values(by='AVG')\n",
    "        \n",
    "        print('Final output: \\n\\n', df.head())\n",
    "        \n",
    "        return df\n",
    "        \n",
    "    else:\n",
    "        print('oops, something didn\\'t work right', res.status_code)\n",
    "        \n",
    "df = make_adp_df()\n",
    "\n",
    "replacement_players = {\n",
    "    'RB':'',\n",
    "    'WR':'',\n",
    "    'TE':'',\n",
    "    'QB':''\n",
    "}\n",
    "\n",
    "for _, row in df[:100].iterrows():\n",
    "    position = row['POS']\n",
    "    player = row['PLAYER']\n",
    "    replacement_players[position] = player\n",
    "    \n",
    "replacement_players\n",
    "\n",
    "BASE_URL = 'https://www.fantasypros.com/nfl/projections/{position}.php?week=draft'\n",
    "\n",
    "def make_projection_df():\n",
    "    \n",
    "    #make empty df to add to\n",
    "    final_df = pd.DataFrame()\n",
    "    \n",
    "    for position in ['rb', 'qb', 'te', 'wr']:\n",
    "        \n",
    "        res = requests.get(BASE_URL.format(position=position))\n",
    "        if res.ok:\n",
    "            soup = BS(res.content, 'html.parser')\n",
    "            table = soup.find('table', {'id': 'data'})\n",
    "            df = pd.read_html(str(table))[0]\n",
    "            \n",
    "            df.columns = df.columns.droplevel(level=0)\n",
    "            df['PLAYER'] = df['Player'].apply(lambda x: ''.join(x.split()[:-1]))\n",
    "            \n",
    "            if 'REC' in df.columns:\n",
    "                df['FPTS'] = df['FPTS'] + df['REC']*0.5\n",
    "                \n",
    "            df['POS'] = position.upper()\n",
    "            \n",
    "            df = df[['PLAYER', 'POS', 'FPTS']]\n",
    "            final_df = pd.concat([final_df, df])\n",
    "            \n",
    "        else:\n",
    "            print('something didn\\'t work', res.status_code)\n",
    "            return\n",
    "        \n",
    "    final_df = final_df.sort_values(by='FPTS', ascending=False)\n",
    "    \n",
    "    return final_df\n",
    "\n",
    "df = make_projection_df()\n",
    "df.head()\n",
    "\n",
    "replacement_values = {\n",
    "    'RB':0,\n",
    "    'WR':0,\n",
    "    'QB':0,\n",
    "    'TE':0\n",
    "}\n",
    "\n",
    "for position, player in replacement_players.items():\n",
    "    if position in ['QB','WR','TE','RB']:\n",
    "        replacement_values[position]=df.loc[df['PLAYER']==player].values[0,-1]\n",
    "\n",
    "\n",
    "replacement_values\n",
    "\n",
    "df['VOR'] = df.apply(lambda row: row['FPTS'] - replacement_values.get(row['POS']), axis=1)\n",
    "df.head()\n",
    "\n",
    "df = df.sort_values(by='VOR', ascending=False)\n",
    "df['VALUERANK'] = df['VOR'].rank(ascending=False)\n",
    "pd.set_option('display.max_rows', 100)\n",
    "df.head(100)\n",
    "\n"
   ]
  },
  {
   "cell_type": "code",
   "execution_count": 37,
   "metadata": {},
   "outputs": [
    {
     "data": {
      "text/plain": [
       "{'RB': 'Marlon Mack',\n",
       " 'WR': 'John Brown',\n",
       " 'TE': 'Austin Hooper',\n",
       " 'QB': 'Matthew Stafford',\n",
       " 'DS': 'San Francisco 49ers'}"
      ]
     },
     "execution_count": 37,
     "metadata": {},
     "output_type": "execute_result"
    }
   ],
   "source": []
  },
  {
   "cell_type": "code",
   "execution_count": 38,
   "metadata": {},
   "outputs": [
    {
     "data": {
      "text/html": [
       "<div>\n",
       "<style scoped>\n",
       "    .dataframe tbody tr th:only-of-type {\n",
       "        vertical-align: middle;\n",
       "    }\n",
       "\n",
       "    .dataframe tbody tr th {\n",
       "        vertical-align: top;\n",
       "    }\n",
       "\n",
       "    .dataframe thead th {\n",
       "        text-align: right;\n",
       "    }\n",
       "</style>\n",
       "<table border=\"1\" class=\"dataframe\">\n",
       "  <thead>\n",
       "    <tr style=\"text-align: right;\">\n",
       "      <th></th>\n",
       "      <th>PLAYER</th>\n",
       "      <th>POS</th>\n",
       "      <th>FPTS</th>\n",
       "    </tr>\n",
       "  </thead>\n",
       "  <tbody>\n",
       "    <tr>\n",
       "      <th>0</th>\n",
       "      <td>LamarJackson</td>\n",
       "      <td>QB</td>\n",
       "      <td>355.40</td>\n",
       "    </tr>\n",
       "    <tr>\n",
       "      <th>1</th>\n",
       "      <td>PatrickMahomes</td>\n",
       "      <td>QB</td>\n",
       "      <td>342.90</td>\n",
       "    </tr>\n",
       "    <tr>\n",
       "      <th>0</th>\n",
       "      <td>ChristianMcCaffrey</td>\n",
       "      <td>RB</td>\n",
       "      <td>316.95</td>\n",
       "    </tr>\n",
       "    <tr>\n",
       "      <th>2</th>\n",
       "      <td>DakPrescott</td>\n",
       "      <td>QB</td>\n",
       "      <td>313.70</td>\n",
       "    </tr>\n",
       "    <tr>\n",
       "      <th>3</th>\n",
       "      <td>DeshaunWatson</td>\n",
       "      <td>QB</td>\n",
       "      <td>312.80</td>\n",
       "    </tr>\n",
       "  </tbody>\n",
       "</table>\n",
       "</div>"
      ],
      "text/plain": [
       "               PLAYER POS    FPTS\n",
       "0        LamarJackson  QB  355.40\n",
       "1      PatrickMahomes  QB  342.90\n",
       "0  ChristianMcCaffrey  RB  316.95\n",
       "2         DakPrescott  QB  313.70\n",
       "3       DeshaunWatson  QB  312.80"
      ]
     },
     "execution_count": 38,
     "metadata": {},
     "output_type": "execute_result"
    }
   ],
   "source": []
  },
  {
   "cell_type": "code",
   "execution_count": 39,
   "metadata": {},
   "outputs": [
    {
     "ename": "IndexError",
     "evalue": "index 0 is out of bounds for axis 0 with size 0",
     "output_type": "error",
     "traceback": [
      "\u001b[0;31m---------------------------------------------------------------------------\u001b[0m",
      "\u001b[0;31mIndexError\u001b[0m                                Traceback (most recent call last)",
      "\u001b[0;32m<ipython-input-39-6d35ed2a040d>\u001b[0m in \u001b[0;36m<module>\u001b[0;34m\u001b[0m\n\u001b[1;32m      8\u001b[0m \u001b[0;32mfor\u001b[0m \u001b[0mposition\u001b[0m\u001b[0;34m,\u001b[0m \u001b[0mplayer\u001b[0m \u001b[0;32min\u001b[0m \u001b[0mreplacement_players\u001b[0m\u001b[0;34m.\u001b[0m\u001b[0mitems\u001b[0m\u001b[0;34m(\u001b[0m\u001b[0;34m)\u001b[0m\u001b[0;34m:\u001b[0m\u001b[0;34m\u001b[0m\u001b[0;34m\u001b[0m\u001b[0m\n\u001b[1;32m      9\u001b[0m     \u001b[0;32mif\u001b[0m \u001b[0mposition\u001b[0m \u001b[0;32min\u001b[0m \u001b[0;34m[\u001b[0m\u001b[0;34m'QB'\u001b[0m\u001b[0;34m,\u001b[0m\u001b[0;34m'WR'\u001b[0m\u001b[0;34m,\u001b[0m\u001b[0;34m'TE'\u001b[0m\u001b[0;34m,\u001b[0m\u001b[0;34m'RB'\u001b[0m\u001b[0;34m]\u001b[0m\u001b[0;34m:\u001b[0m\u001b[0;34m\u001b[0m\u001b[0;34m\u001b[0m\u001b[0m\n\u001b[0;32m---> 10\u001b[0;31m         \u001b[0mreplacement_values\u001b[0m\u001b[0;34m[\u001b[0m\u001b[0mposition\u001b[0m\u001b[0;34m]\u001b[0m\u001b[0;34m=\u001b[0m\u001b[0mdf\u001b[0m\u001b[0;34m.\u001b[0m\u001b[0mloc\u001b[0m\u001b[0;34m[\u001b[0m\u001b[0mdf\u001b[0m\u001b[0;34m[\u001b[0m\u001b[0;34m'PLAYER'\u001b[0m\u001b[0;34m]\u001b[0m\u001b[0;34m==\u001b[0m\u001b[0mplayer\u001b[0m\u001b[0;34m]\u001b[0m\u001b[0;34m.\u001b[0m\u001b[0mvalues\u001b[0m\u001b[0;34m[\u001b[0m\u001b[0;36m0\u001b[0m\u001b[0;34m,\u001b[0m\u001b[0;34m-\u001b[0m\u001b[0;36m1\u001b[0m\u001b[0;34m]\u001b[0m\u001b[0;34m\u001b[0m\u001b[0;34m\u001b[0m\u001b[0m\n\u001b[0m\u001b[1;32m     11\u001b[0m \u001b[0;34m\u001b[0m\u001b[0m\n\u001b[1;32m     12\u001b[0m \u001b[0;34m\u001b[0m\u001b[0m\n",
      "\u001b[0;31mIndexError\u001b[0m: index 0 is out of bounds for axis 0 with size 0"
     ]
    }
   ],
   "source": []
  },
  {
   "cell_type": "code",
   "execution_count": null,
   "metadata": {},
   "outputs": [],
   "source": [
    "#df['VOR'] = df.apply(lambda row: row['FPTS'] - replacement_values.get(row['POS']), axis=1)\n",
    "#df.head()"
   ]
  },
  {
   "cell_type": "code",
   "execution_count": null,
   "metadata": {},
   "outputs": [],
   "source": []
  },
  {
   "cell_type": "code",
   "execution_count": null,
   "metadata": {},
   "outputs": [],
   "source": []
  }
 ],
 "metadata": {
  "kernelspec": {
   "display_name": "Python 3",
   "language": "python",
   "name": "python3"
  },
  "language_info": {
   "codemirror_mode": {
    "name": "ipython",
    "version": 3
   },
   "file_extension": ".py",
   "mimetype": "text/x-python",
   "name": "python",
   "nbconvert_exporter": "python",
   "pygments_lexer": "ipython3",
   "version": "3.7.6"
  }
 },
 "nbformat": 4,
 "nbformat_minor": 4
}
