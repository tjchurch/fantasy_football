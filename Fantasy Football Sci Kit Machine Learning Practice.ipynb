{
 "cells": [
  {
   "cell_type": "code",
   "execution_count": 15,
   "metadata": {},
   "outputs": [
    {
     "data": {
      "image/png": "[encoded data removed]",
      "text/plain": [
       "<Figure size 432x288 with 1 Axes>"
      ]
     },
     "metadata": {
      "needs_background": "light"
     },
     "output_type": "display_data"
    },
    {
     "name": "stdout",
     "output_type": "stream",
     "text": [
      "27.972685988249516\n",
      "The coefficient of determination is 0.8627148089998887\n"
     ]
    }
   ],
   "source": [
    "import pandas as pd\n",
    "from sklearn.model_selection import train_test_split\n",
    "from sklearn.linear_model import LinearRegression\n",
    "from matplotlib import pyplot as plt\n",
    "import warnings\n",
    "from sklearn.metrics import mean_squared_error\n",
    "import math\n",
    "import numpy as np\n",
    "from sklearn.metrics import r2_score\n",
    "\n",
    "warnings.filterwarnings('ignore')\n",
    "#import data\n",
    "df2 = pd.read_csv('/Users/tylerchurch/Downloads/2019 (1).csv')\n",
    "\n",
    "#drop col\n",
    "df2.drop(['Rk', '2PM', '2PP', 'DKPt', 'FDPt', 'VBD', 'PosRank', 'OvRank', 'PPR', 'Fmb',\n",
    "          'GS'], axis=1, inplace=True)\n",
    "#name formatting\n",
    "df2['Player']=df2['Player'].apply(lambda x: x.split('*')[0]).apply(lambda x: x.split('\\\\')[0])\n",
    "\n",
    "#rename columns\n",
    "df2.rename({'TD': 'PassingTD', 'TD.1': 'RushingTD', 'TD.2': 'ReceivingTD', 'TD.3': 'TotalTD', 'Yds': 'PassingYDs',\n",
    "           'Yds.1': 'RushingYDs', 'Yds.2': 'ReceivingYDs', 'Att': 'PassingAtt', 'Att.1': 'RushingAtt'}, axis=1, inplace=True)\n",
    "\n",
    "#seperate by position\n",
    "rb_df = df2[df2['FantPos'] == 'RB']\n",
    "qb_df = df2[df2['FantPos'] == 'QB']\n",
    "wr_df = df2[df2['FantPos'] == 'WR']\n",
    "te_df = df2[df2['FantPos'] == 'TE']\n",
    "\n",
    "#seperate rushing and receiving\n",
    "rushing_columns = ['RushingAtt', 'RushingTD', 'RushingYDs', 'Y/A']\n",
    "receiving_columns = ['Tgt', 'Rec', 'ReceivingYDs', 'Y/R', 'ReceivingTD']\n",
    "\n",
    "def transform_columns(df, new_column_list):\n",
    "    df = df[['Player', 'Tm', 'Age', 'G', 'FantPt'] + new_column_list + ['FL']]\n",
    "    return df\n",
    "\n",
    "rb_df = transform_columns(rb_df, rushing_columns+receiving_columns)\n",
    "\n",
    "#create FP columns\n",
    "rb_df['FantasyPoints'] = (rb_df['RushingYDs']*0.1 + rb_df['RushingTD']*6 + rb_df['Rec']*0.5 + rb_df['ReceivingYDs']*0.1\n",
    "+ rb_df['ReceivingTD']*6 - rb_df['FL']*2)\n",
    "\n",
    "#create Usage column\n",
    "rb_df['Total Usage'] = (rb_df['RushingAtt'] + rb_df['Tgt'])\n",
    "\n",
    "#filter for > 20 rushes\n",
    "rb_df = rb_df[rb_df['RushingAtt']>20]\n",
    "\n",
    "#Machine Learning\n",
    "\n",
    "#what data\n",
    "x = rb_df['Total Usage'].values.reshape(-1,1)\n",
    "y = rb_df['FantasyPoints'].values.reshape(-1,1)\n",
    "\n",
    "#split our data\n",
    "x_train, x_test, y_train, y_test = train_test_split(x, y, test_size=0.2, random_state=0)\n",
    "\n",
    "#fit and train data\n",
    "regressor = LinearRegression()\n",
    "regressor.fit(x_train, y_train)\n",
    "y_pred = regressor.predict(x_test)\n",
    "\n",
    "#compare results\n",
    "df = pd.DataFrame({'Actual':y_test.flatten(),'Predicted':y_pred.flatten()})\n",
    "df.head()\n",
    "\n",
    "#visualize info\n",
    "fig, ax = plt.subplots()\n",
    "plt.scatter(x_test, y_test, color='gray')\n",
    "plt.plot(x_test, y_pred, color='red', linewidth=2)\n",
    "ax.vlines(x_test,y_test,y_pred)\n",
    "plt.xlabel('Usage')\n",
    "plt.ylabel('Total FantasyPoints')\n",
    "plt.show()\n",
    "\n",
    "mse= mean_squared_error(y_test, y_pred)\n",
    "rmse = math.sqrt(mse)\n",
    "print(rmse)\n",
    "\n",
    "#correlation coefficient\n",
    "coeff_of_determination = r2_score(y_test, y_pred)\n",
    "print('The coefficient of determination is', coeff_of_determination)\n",
    "\n",
    "\n",
    "\n",
    "\n",
    "\n"
   ]
  },
  {
   "cell_type": "code",
   "execution_count": null,
   "metadata": {},
   "outputs": [],
   "source": []
  }
 ],
 "metadata": {
  "kernelspec": {
   "display_name": "Python 3",
   "language": "python",
   "name": "python3"
  },
  "language_info": {
   "codemirror_mode": {
    "name": "ipython",
    "version": 3
   },
   "file_extension": ".py",
   "mimetype": "text/x-python",
   "name": "python",
   "nbconvert_exporter": "python",
   "pygments_lexer": "ipython3",
   "version": "3.7.6"
  }
 },
 "nbformat": 4,
 "nbformat_minor": 4
}
